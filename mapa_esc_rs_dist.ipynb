{
 "cells": [
  {
   "cell_type": "markdown",
   "metadata": {},
   "source": [
    "# Mapa das escolas do RS por taxa de distorção do ensino médio por série"
   ]
  },
  {
   "cell_type": "code",
   "execution_count": null,
   "metadata": {},
   "outputs": [],
   "source": []
  },
  {
   "cell_type": "code",
   "execution_count": 4,
   "metadata": {},
   "outputs": [],
   "source": [
    "%matplotlib inline\n",
    "import pandas as pd\n",
    "import folium"
   ]
  },
  {
   "cell_type": "code",
   "execution_count": 5,
   "metadata": {},
   "outputs": [],
   "source": [
    "# carregar dados do arquivo csv\n",
    "df = pd.read_csv('fee-2013-mun-taxa-de-distorcao-idade-serie-total-102524.csv', encoding='latin1', skiprows=1, decimal=',')"
   ]
  },
  {
   "cell_type": "code",
   "execution_count": 6,
   "metadata": {},
   "outputs": [
    {
     "data": {
      "text/html": [
       "<div>\n",
       "<style scoped>\n",
       "    .dataframe tbody tr th:only-of-type {\n",
       "        vertical-align: middle;\n",
       "    }\n",
       "\n",
       "    .dataframe tbody tr th {\n",
       "        vertical-align: top;\n",
       "    }\n",
       "\n",
       "    .dataframe thead th {\n",
       "        text-align: right;\n",
       "    }\n",
       "</style>\n",
       "<table border=\"1\" class=\"dataframe\">\n",
       "  <thead>\n",
       "    <tr style=\"text-align: right;\">\n",
       "      <th></th>\n",
       "      <th>Município</th>\n",
       "      <th>ibge</th>\n",
       "      <th>latitude</th>\n",
       "      <th>longitude</th>\n",
       "      <th>tx_distorcao</th>\n",
       "    </tr>\n",
       "  </thead>\n",
       "  <tbody>\n",
       "    <tr>\n",
       "      <th>0</th>\n",
       "      <td>Aceguá</td>\n",
       "      <td>4300034</td>\n",
       "      <td>-31.860759999990</td>\n",
       "      <td>-54.167059999990</td>\n",
       "      <td>25.7</td>\n",
       "    </tr>\n",
       "    <tr>\n",
       "      <th>1</th>\n",
       "      <td>Água Santa</td>\n",
       "      <td>4300059</td>\n",
       "      <td>-28.167200000000</td>\n",
       "      <td>-52.030999999990</td>\n",
       "      <td>14.7</td>\n",
       "    </tr>\n",
       "    <tr>\n",
       "      <th>2</th>\n",
       "      <td>Agudo</td>\n",
       "      <td>4300109</td>\n",
       "      <td>-29.644700000000</td>\n",
       "      <td>-53.251500000000</td>\n",
       "      <td>26.4</td>\n",
       "    </tr>\n",
       "    <tr>\n",
       "      <th>3</th>\n",
       "      <td>Ajuricaba</td>\n",
       "      <td>4300208</td>\n",
       "      <td>-28.234200000000</td>\n",
       "      <td>-53.775700000000</td>\n",
       "      <td>24.1</td>\n",
       "    </tr>\n",
       "    <tr>\n",
       "      <th>4</th>\n",
       "      <td>Alecrim</td>\n",
       "      <td>4300307</td>\n",
       "      <td>-27.657900000000</td>\n",
       "      <td>-54.764899999990</td>\n",
       "      <td>18.9</td>\n",
       "    </tr>\n",
       "  </tbody>\n",
       "</table>\n",
       "</div>"
      ],
      "text/plain": [
       "    Município     ibge          latitude         longitude  tx_distorcao\n",
       "0      Aceguá  4300034  -31.860759999990  -54.167059999990          25.7\n",
       "1  Água Santa  4300059  -28.167200000000  -52.030999999990          14.7\n",
       "2       Agudo  4300109  -29.644700000000  -53.251500000000          26.4\n",
       "3   Ajuricaba  4300208  -28.234200000000  -53.775700000000          24.1\n",
       "4     Alecrim  4300307  -27.657900000000  -54.764899999990          18.9"
      ]
     },
     "execution_count": 6,
     "metadata": {},
     "output_type": "execute_result"
    }
   ],
   "source": [
    "df = df.rename(columns={'/Educação/Ens...de Série/Total 2013 (-)': 'tx_distorcao'})\n",
    "df.head()"
   ]
  },
  {
   "cell_type": "code",
   "execution_count": 7,
   "metadata": {},
   "outputs": [
    {
     "name": "stdout",
     "output_type": "stream",
     "text": [
      "<class 'pandas.core.frame.DataFrame'>\n",
      "RangeIndex: 495 entries, 0 to 494\n",
      "Data columns (total 5 columns):\n",
      "Município       495 non-null object\n",
      "ibge            495 non-null int64\n",
      "latitude        495 non-null object\n",
      "longitude       495 non-null object\n",
      "tx_distorcao    495 non-null float64\n",
      "dtypes: float64(1), int64(1), object(3)\n",
      "memory usage: 19.4+ KB\n"
     ]
    }
   ],
   "source": [
    "df.info()"
   ]
  },
  {
   "cell_type": "code",
   "execution_count": 8,
   "metadata": {},
   "outputs": [
    {
     "data": {
      "text/html": [
       "<div>\n",
       "<style scoped>\n",
       "    .dataframe tbody tr th:only-of-type {\n",
       "        vertical-align: middle;\n",
       "    }\n",
       "\n",
       "    .dataframe tbody tr th {\n",
       "        vertical-align: top;\n",
       "    }\n",
       "\n",
       "    .dataframe thead th {\n",
       "        text-align: right;\n",
       "    }\n",
       "</style>\n",
       "<table border=\"1\" class=\"dataframe\">\n",
       "  <thead>\n",
       "    <tr style=\"text-align: right;\">\n",
       "      <th></th>\n",
       "      <th>Município</th>\n",
       "      <th>ibge</th>\n",
       "      <th>latitude</th>\n",
       "      <th>longitude</th>\n",
       "      <th>tx_distorcao</th>\n",
       "    </tr>\n",
       "  </thead>\n",
       "  <tbody>\n",
       "    <tr>\n",
       "      <th>307</th>\n",
       "      <td>Pedras Altas</td>\n",
       "      <td>4314175</td>\n",
       "      <td>-31.721699999990</td>\n",
       "      <td>-53.583799999990</td>\n",
       "      <td>56.0</td>\n",
       "    </tr>\n",
       "    <tr>\n",
       "      <th>316</th>\n",
       "      <td>Pinheiro Machado</td>\n",
       "      <td>4314506</td>\n",
       "      <td>-31.579400000000</td>\n",
       "      <td>-53.379800000000</td>\n",
       "      <td>53.9</td>\n",
       "    </tr>\n",
       "    <tr>\n",
       "      <th>17</th>\n",
       "      <td>Arambaré</td>\n",
       "      <td>4300851</td>\n",
       "      <td>-30.909300000000</td>\n",
       "      <td>-51.504600000000</td>\n",
       "      <td>52.8</td>\n",
       "    </tr>\n",
       "    <tr>\n",
       "      <th>140</th>\n",
       "      <td>Eldorado do Sul</td>\n",
       "      <td>4306767</td>\n",
       "      <td>-30.084700000000</td>\n",
       "      <td>-51.618699999990</td>\n",
       "      <td>51.9</td>\n",
       "    </tr>\n",
       "    <tr>\n",
       "      <th>35</th>\n",
       "      <td>Barra do Quaraí</td>\n",
       "      <td>4301875</td>\n",
       "      <td>-30.202900000000</td>\n",
       "      <td>-57.549700000000</td>\n",
       "      <td>51.5</td>\n",
       "    </tr>\n",
       "    <tr>\n",
       "      <th>393</th>\n",
       "      <td>São José do Norte</td>\n",
       "      <td>4318507</td>\n",
       "      <td>-32.015099999990</td>\n",
       "      <td>-52.033099999990</td>\n",
       "      <td>49.4</td>\n",
       "    </tr>\n",
       "    <tr>\n",
       "      <th>413</th>\n",
       "      <td>São Valério do Sul</td>\n",
       "      <td>4319737</td>\n",
       "      <td>-27.790600000000</td>\n",
       "      <td>-53.936799999990</td>\n",
       "      <td>49.2</td>\n",
       "    </tr>\n",
       "    <tr>\n",
       "      <th>193</th>\n",
       "      <td>Hulha Negra</td>\n",
       "      <td>4309654</td>\n",
       "      <td>-31.406700000000</td>\n",
       "      <td>-53.866700000000</td>\n",
       "      <td>49.0</td>\n",
       "    </tr>\n",
       "    <tr>\n",
       "      <th>106</th>\n",
       "      <td>Chuí</td>\n",
       "      <td>4305439</td>\n",
       "      <td>-33.686599999990</td>\n",
       "      <td>-53.459400000000</td>\n",
       "      <td>48.6</td>\n",
       "    </tr>\n",
       "    <tr>\n",
       "      <th>233</th>\n",
       "      <td>Lavras do Sul</td>\n",
       "      <td>4311502</td>\n",
       "      <td>-30.807099999990</td>\n",
       "      <td>-53.893099999990</td>\n",
       "      <td>47.7</td>\n",
       "    </tr>\n",
       "  </tbody>\n",
       "</table>\n",
       "</div>"
      ],
      "text/plain": [
       "              Município     ibge          latitude         longitude  \\\n",
       "307        Pedras Altas  4314175  -31.721699999990  -53.583799999990   \n",
       "316    Pinheiro Machado  4314506  -31.579400000000  -53.379800000000   \n",
       "17             Arambaré  4300851  -30.909300000000  -51.504600000000   \n",
       "140     Eldorado do Sul  4306767  -30.084700000000  -51.618699999990   \n",
       "35      Barra do Quaraí  4301875  -30.202900000000  -57.549700000000   \n",
       "393   São José do Norte  4318507  -32.015099999990  -52.033099999990   \n",
       "413  São Valério do Sul  4319737  -27.790600000000  -53.936799999990   \n",
       "193         Hulha Negra  4309654  -31.406700000000  -53.866700000000   \n",
       "106                Chuí  4305439  -33.686599999990  -53.459400000000   \n",
       "233       Lavras do Sul  4311502  -30.807099999990  -53.893099999990   \n",
       "\n",
       "     tx_distorcao  \n",
       "307          56.0  \n",
       "316          53.9  \n",
       "17           52.8  \n",
       "140          51.9  \n",
       "35           51.5  \n",
       "393          49.4  \n",
       "413          49.2  \n",
       "193          49.0  \n",
       "106          48.6  \n",
       "233          47.7  "
      ]
     },
     "execution_count": 8,
     "metadata": {},
     "output_type": "execute_result"
    }
   ],
   "source": [
    "# 10 maior taxas de distorção do ensino médio\n",
    "df.nlargest(10, 'tx_distorcao')"
   ]
  },
  {
   "cell_type": "code",
   "execution_count": 9,
   "metadata": {},
   "outputs": [
    {
     "data": {
      "text/html": [
       "<div>\n",
       "<style scoped>\n",
       "    .dataframe tbody tr th:only-of-type {\n",
       "        vertical-align: middle;\n",
       "    }\n",
       "\n",
       "    .dataframe tbody tr th {\n",
       "        vertical-align: top;\n",
       "    }\n",
       "\n",
       "    .dataframe thead th {\n",
       "        text-align: right;\n",
       "    }\n",
       "</style>\n",
       "<table border=\"1\" class=\"dataframe\">\n",
       "  <thead>\n",
       "    <tr style=\"text-align: right;\">\n",
       "      <th></th>\n",
       "      <th>Município</th>\n",
       "      <th>ibge</th>\n",
       "      <th>latitude</th>\n",
       "      <th>longitude</th>\n",
       "      <th>tx_distorcao</th>\n",
       "    </tr>\n",
       "  </thead>\n",
       "  <tbody>\n",
       "    <tr>\n",
       "      <th>490</th>\n",
       "      <td>Vista Alegre do Prata</td>\n",
       "      <td>4323606</td>\n",
       "      <td>-28.805199999990</td>\n",
       "      <td>-51.794600000000</td>\n",
       "      <td>2.6</td>\n",
       "    </tr>\n",
       "    <tr>\n",
       "      <th>375</th>\n",
       "      <td>Santo Antônio do Palma</td>\n",
       "      <td>4317558</td>\n",
       "      <td>-28.495600000000</td>\n",
       "      <td>-52.026699999990</td>\n",
       "      <td>4.3</td>\n",
       "    </tr>\n",
       "    <tr>\n",
       "      <th>28</th>\n",
       "      <td>Áurea</td>\n",
       "      <td>4301552</td>\n",
       "      <td>-27.693600000000</td>\n",
       "      <td>-52.050500000000</td>\n",
       "      <td>5.8</td>\n",
       "    </tr>\n",
       "    <tr>\n",
       "      <th>268</th>\n",
       "      <td>Nicolau Vergueiro</td>\n",
       "      <td>4312674</td>\n",
       "      <td>-28.529800000000</td>\n",
       "      <td>-52.467599999990</td>\n",
       "      <td>7.0</td>\n",
       "    </tr>\n",
       "    <tr>\n",
       "      <th>128</th>\n",
       "      <td>Derrubadas</td>\n",
       "      <td>4306320</td>\n",
       "      <td>-27.264199999990</td>\n",
       "      <td>-53.864500000000</td>\n",
       "      <td>7.4</td>\n",
       "    </tr>\n",
       "    <tr>\n",
       "      <th>119</th>\n",
       "      <td>Cotiporã</td>\n",
       "      <td>4305959</td>\n",
       "      <td>-28.989100000000</td>\n",
       "      <td>-51.697099999990</td>\n",
       "      <td>7.5</td>\n",
       "    </tr>\n",
       "    <tr>\n",
       "      <th>68</th>\n",
       "      <td>Campestre da Serra</td>\n",
       "      <td>4303673</td>\n",
       "      <td>-28.792600000000</td>\n",
       "      <td>-51.094099999990</td>\n",
       "      <td>7.6</td>\n",
       "    </tr>\n",
       "    <tr>\n",
       "      <th>476</th>\n",
       "      <td>Vanini</td>\n",
       "      <td>4322558</td>\n",
       "      <td>-28.475800000000</td>\n",
       "      <td>-51.844700000000</td>\n",
       "      <td>7.8</td>\n",
       "    </tr>\n",
       "    <tr>\n",
       "      <th>236</th>\n",
       "      <td>Linha Nova</td>\n",
       "      <td>4311643</td>\n",
       "      <td>-29.467900000000</td>\n",
       "      <td>-51.200299999990</td>\n",
       "      <td>8.0</td>\n",
       "    </tr>\n",
       "    <tr>\n",
       "      <th>392</th>\n",
       "      <td>São José do Inhacorá</td>\n",
       "      <td>4318499</td>\n",
       "      <td>-27.725100000000</td>\n",
       "      <td>-54.127499999990</td>\n",
       "      <td>8.0</td>\n",
       "    </tr>\n",
       "  </tbody>\n",
       "</table>\n",
       "</div>"
      ],
      "text/plain": [
       "                  Município     ibge          latitude         longitude  \\\n",
       "490   Vista Alegre do Prata  4323606  -28.805199999990  -51.794600000000   \n",
       "375  Santo Antônio do Palma  4317558  -28.495600000000  -52.026699999990   \n",
       "28                    Áurea  4301552  -27.693600000000  -52.050500000000   \n",
       "268       Nicolau Vergueiro  4312674  -28.529800000000  -52.467599999990   \n",
       "128              Derrubadas  4306320  -27.264199999990  -53.864500000000   \n",
       "119                Cotiporã  4305959  -28.989100000000  -51.697099999990   \n",
       "68       Campestre da Serra  4303673  -28.792600000000  -51.094099999990   \n",
       "476                  Vanini  4322558  -28.475800000000  -51.844700000000   \n",
       "236              Linha Nova  4311643  -29.467900000000  -51.200299999990   \n",
       "392    São José do Inhacorá  4318499  -27.725100000000  -54.127499999990   \n",
       "\n",
       "     tx_distorcao  \n",
       "490           2.6  \n",
       "375           4.3  \n",
       "28            5.8  \n",
       "268           7.0  \n",
       "128           7.4  \n",
       "119           7.5  \n",
       "68            7.6  \n",
       "476           7.8  \n",
       "236           8.0  \n",
       "392           8.0  "
      ]
     },
     "execution_count": 9,
     "metadata": {},
     "output_type": "execute_result"
    }
   ],
   "source": [
    "# 10 menores taxas de distorção do ensino médio\n",
    "df.nsmallest(10, 'tx_distorcao')"
   ]
  },
  {
   "cell_type": "code",
   "execution_count": 13,
   "metadata": {},
   "outputs": [
    {
     "data": {
      "text/plain": [
       "<matplotlib.axes._subplots.AxesSubplot at 0x7fa3a61b3780>"
      ]
     },
     "execution_count": 13,
     "metadata": {},
     "output_type": "execute_result"
    },
    {
     "data": {
      "image/png": "[encoded data removed]",
      "text/plain": [
       "<Figure size 432x288 with 1 Axes>"
      ]
     },
     "metadata": {
      "needs_background": "light"
     },
     "output_type": "display_data"
    }
   ],
   "source": [
    "df['tx_distorcao'].plot.hist(127)"
   ]
  },
  {
   "cell_type": "code",
   "execution_count": 35,
   "metadata": {},
   "outputs": [
    {
     "data": {
      "text/plain": [
       "Município       17\n",
       "ibge            17\n",
       "latitude        17\n",
       "longitude       17\n",
       "tx_distorcao    17\n",
       "dtype: int64"
      ]
     },
     "execution_count": 35,
     "metadata": {},
     "output_type": "execute_result"
    }
   ],
   "source": [
    "# Quantidade de municipios com taxas de distorção <= 10\n",
    "melhores = df[df['tx_distorcao'] <= 10]\n",
    "melhores.count()"
   ]
  },
  {
   "cell_type": "code",
   "execution_count": 44,
   "metadata": {},
   "outputs": [
    {
     "data": {
      "text/plain": [
       "Município       32\n",
       "ibge            32\n",
       "latitude        32\n",
       "longitude       32\n",
       "tx_distorcao    32\n",
       "dtype: int64"
      ]
     },
     "execution_count": 44,
     "metadata": {},
     "output_type": "execute_result"
    }
   ],
   "source": [
    "piores = df[df['tx_distorcao'] >= 40]\n",
    "piores.count()"
   ]
  },
  {
   "cell_type": "code",
   "execution_count": null,
   "metadata": {},
   "outputs": [],
   "source": []
  },
  {
   "cell_type": "code",
   "execution_count": null,
   "metadata": {},
   "outputs": [],
   "source": []
  },
  {
   "cell_type": "code",
   "execution_count": 25,
   "metadata": {},
   "outputs": [
    {
     "data": {
      "text/html": [
       "<div style=\"width:100%;\"><div style=\"position:relative;width:100%;height:0;padding-bottom:60%;\"><iframe src=\"data:text/html;charset=utf-8;base64,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\" style=\"position:absolute;width:100%;height:100%;left:0;top:0;border:none !important;\" allowfullscreen webkitallowfullscreen mozallowfullscreen></iframe></div></div>"
      ],
      "text/plain": [
       "<folium.folium.Map at 0x7fa3a58b2940>"
      ]
     },
     "execution_count": 25,
     "metadata": {},
     "output_type": "execute_result"
    }
   ],
   "source": [
    "# criar um mapa do Rio grande do sul, com as coordenadas do estado\n",
    "\n",
    "mapa_rs = folium.Map(\n",
    "    location=['-30.338745', '-52.8490632'],\n",
    "    zoom_start=6\n",
    ")\n",
    "mapa_rs"
   ]
  },
  {
   "cell_type": "code",
   "execution_count": 28,
   "metadata": {},
   "outputs": [
    {
     "name": "stdout",
     "output_type": "stream",
     "text": [
      "<class 'pandas.core.frame.DataFrame'>\n",
      "RangeIndex: 495 entries, 0 to 494\n",
      "Data columns (total 5 columns):\n",
      "Município       495 non-null object\n",
      "ibge            495 non-null int64\n",
      "latitude        495 non-null object\n",
      "longitude       495 non-null object\n",
      "tx_distorcao    495 non-null float64\n",
      "dtypes: float64(1), int64(1), object(3)\n",
      "memory usage: 19.4+ KB\n"
     ]
    }
   ],
   "source": [
    "df.info()"
   ]
  },
  {
   "cell_type": "code",
   "execution_count": 38,
   "metadata": {},
   "outputs": [
    {
     "data": {
      "text/html": [
       "<div style=\"width:100%;\"><div style=\"position:relative;width:100%;height:0;padding-bottom:60%;\"><iframe src=\"data:text/html;charset=utf-8;base64,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\" style=\"position:absolute;width:100%;height:100%;left:0;top:0;border:none !important;\" allowfullscreen webkitallowfullscreen mozallowfullscreen></iframe></div></div>"
      ],
      "text/plain": [
       "<folium.folium.Map at 0x7fa3a58b2940>"
      ]
     },
     "execution_count": 38,
     "metadata": {},
     "output_type": "execute_result"
    }
   ],
   "source": [
    "# percorres os melhores escolas e marcar no mapa\n",
    "\n",
    "for indice, municipio in melhores.iterrows():\n",
    "    folium.Marker(\n",
    "        location=[municipio['latitude'], municipio['longitude']],\n",
    "        popup=municipio['Município'],\n",
    "        icon=folium.map.Icon(color='green')\n",
    "    ).add_to(mapa_rs)\n",
    "mapa_rs"
   ]
  },
  {
   "cell_type": "code",
   "execution_count": 43,
   "metadata": {},
   "outputs": [
    {
     "data": {
      "text/html": [
       "<div style=\"width:100%;\"><div style=\"position:relative;width:100%;height:0;padding-bottom:60%;\"><iframe src=\"data:text/html;charset=utf-8;base64,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\" style=\"position:absolute;width:100%;height:100%;left:0;top:0;border:none !important;\" allowfullscreen webkitallowfullscreen mozallowfullscreen></iframe></div></div>"
      ],
      "text/plain": [
       "<folium.folium.Map at 0x7fa3a58b2940>"
      ]
     },
     "execution_count": 43,
     "metadata": {},
     "output_type": "execute_result"
    }
   ],
   "source": [
    "# piores cidades com taxa de distorção no mapa\n",
    "\n",
    "for indice, municipio in piores.iterrows():\n",
    "    folium.Marker(\n",
    "        location=[municipio['latitude'], municipio['longitude']],\n",
    "        popup=municipio['Município'],\n",
    "        icon=folium.map.Icon(color='red')\n",
    "    ).add_to(mapa_rs)\n",
    "mapa_rs"
   ]
  }
 ],
 "metadata": {
  "kernelspec": {
   "display_name": "Python 3",
   "language": "python",
   "name": "python3"
  }
 },
 "nbformat": 4,
 "nbformat_minor": 2
}
